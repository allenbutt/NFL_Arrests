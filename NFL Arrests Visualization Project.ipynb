{
 "cells": [
  {
   "cell_type": "markdown",
   "metadata": {},
   "source": [
    "## NFL Arrests Visualization Project\n",
    "Allen Butt"
   ]
  },
  {
   "cell_type": "markdown",
   "metadata": {},
   "source": [
    "## Dataset 1"
   ]
  },
  {
   "cell_type": "code",
   "execution_count": null,
   "metadata": {},
   "outputs": [],
   "source": [
    "import pandas as pd\n",
    "import re\n",
    "import numpy as np\n",
    "data = pd.read_csv(\"nfl_arrests_2011-2015.csv\", encoding = 'unicode_escape')"
   ]
  },
  {
   "cell_type": "code",
   "execution_count": null,
   "metadata": {},
   "outputs": [],
   "source": [
    "#Fix missing data in OT_flag and turn it into a numeric variable\n",
    "data.fillna({'OT_flag':0}, inplace=True)\n",
    "data['OT_flag'] = data['OT_flag'].replace(['OT'],1)\n",
    "data[\"OT_flag\"]=pd.to_numeric(data[\"OT_flag\"])\n",
    "\n",
    "#Update \"division_game\" into numeric as well\n",
    "data['division_game'] = data['division_game'].replace(['n'],0)\n",
    "data['division_game'] = data['division_game'].replace(['y'],1)\n",
    "data[\"division_game\"]=pd.to_numeric(data[\"division_game\"])\n",
    "data.head()"
   ]
  },
  {
   "cell_type": "code",
   "execution_count": null,
   "metadata": {},
   "outputs": [],
   "source": [
    "#Some observations have missing data--they should be dropped from the dataframe.\n",
    "data = data[data['arrests'].notna()]"
   ]
  },
  {
   "cell_type": "code",
   "execution_count": null,
   "metadata": {},
   "outputs": [],
   "source": [
    "#Some games were played in London and so have missing data.\n",
    "#We can impute the missing values taking the mean of the arrests of the same year for that team.\n",
    "\n",
    "#Create a function to help with this process\n",
    "def imputeLondon(year, home, away, homescore, awayscore, OT, division):\n",
    "    new = data[(data['home_team'] == home) & (data['season'] == year )][\"arrests\"].mean()\n",
    "    data.loc[len(data)] = np.array([year,0,0,0,home,away,homescore,awayscore,OT,new,division])\n",
    "    return;"
   ]
  },
  {
   "cell_type": "code",
   "execution_count": null,
   "metadata": {},
   "outputs": [],
   "source": [
    "#Use the function to fill in the missing data with imputed values.\n",
    "imputeLondon(2013, \"Arizona\", \"Houston\", 30, 9, 0, 0)\n",
    "imputeLondon(2013, \"Jacksonville\", \"San Francisco\", 10, 42, 0, 0)\n",
    "imputeLondon(2014, \"Jacksonville\", \"Dallas\", 17, 32, 0, 0)\n",
    "imputeLondon(2015, \"Jacksonville\", \"Buffalo\", 34, 31, 0, 0)\n",
    "imputeLondon(2015, \"Kansas City\", \"Detroit\", 45, 10, 0, 0)\n",
    "imputeLondon(2015, \"Miami\", \"New York Jets\", 14, 27, 0, 1)\n",
    "imputeLondon(2014, \"Oakland\", \"Miami\", 14, 38, 0, 0)\n",
    "imputeLondon(2014, \"Oakland\", \"Denver\", 17, 41, 0, 1)\n",
    "imputeLondon(2014, \"Oakland\", \"Kansas City\", 24, 20, 0, 0)\n",
    "imputeLondon(2011, \"Tampa Bay\", \"Chicago\", 18, 24, 0, 0)"
   ]
  },
  {
   "cell_type": "code",
   "execution_count": null,
   "metadata": {},
   "outputs": [],
   "source": [
    "#Three teams had a missing year of data--we can impute this data by taking the mean of the existing years.\n",
    "def imputeYear(year, home, away, homescore, awayscore, OT, division):\n",
    "    new = data[(data['home_team'] == home)][\"arrests\"].mean()\n",
    "    data.loc[len(data)] = np.array([year,0,0,0,home,away,homescore,awayscore,OT,pd.to_numeric(new),division])\n",
    "    data[\"arrests\"]=pd.to_numeric(data[\"arrests\"]) #kept getting type errors without brute-forcing it\n",
    "    return;\n",
    "\n",
    "imputeYear(2012, \"Baltimore\", \"Cincinnati\", 44, 13, 0, 1)\n",
    "imputeYear(2012, \"Baltimore\", \"New England\", 31, 30, 0, 0)\n",
    "imputeYear(2012, \"Baltimore\", \"Cleveland\", 23, 16, 0, 1)\n",
    "imputeYear(2012, \"Baltimore\", \"Dallas\", 31, 29, 0, 1)\n",
    "imputeYear(2012, \"Baltimore\", \"Oakland\", 55, 20, 0, 0)\n",
    "imputeYear(2012, \"Baltimore\", \"Pittsburgh\", 20, 23, 0, 1)\n",
    "imputeYear(2012, \"Baltimore\", \"Denver\", 17, 34, 0, 0)\n",
    "imputeYear(2012, \"Baltimore\", \"New York Giants\", 33, 14, 0, 0)\n",
    "\n",
    "imputeYear(2015, \"Chicago\", \"Green Bay\", 23, 31, 0, 1)\n",
    "imputeYear(2015, \"Chicago\", \"Arizona\", 23, 48, 0, 0)\n",
    "imputeYear(2015, \"Chicago\", \"Oakland\", 22, 20, 0, 0)\n",
    "imputeYear(2015, \"Chicago\", \"Minnesota\", 20, 23, 0, 1)\n",
    "imputeYear(2015, \"Chicago\", \"Denver\", 15, 17, 0, 0)\n",
    "imputeYear(2015, \"Chicago\", \"San Francisco\", 20, 26, 1, 0)\n",
    "imputeYear(2015, \"Chicago\", \"Washington\", 21, 24, 0, 0)\n",
    "imputeYear(2015, \"Chicago\", \"Detroit\", 20, 24, 0, 1)\n",
    "\n",
    "imputeYear(2011, \"Miami\", \"New England\", 24, 38, 0, 1)\n",
    "imputeYear(2011, \"Miami\", \"Houston\", 13, 23, 0, 0)\n",
    "imputeYear(2011, \"Miami\", \"Denver\", 15, 18, 1, 0)\n",
    "imputeYear(2011, \"Miami\", \"Washington\", 2, 9, 0, 0)\n",
    "imputeYear(2011, \"Miami\", \"Buffalo\", 35, 8, 0, 1)\n",
    "imputeYear(2011, \"Miami\", \"Oakland\", 34, 14, 0, 0)\n",
    "imputeYear(2011, \"Miami\", \"Philadelphia\", 10, 26, 0, 0)\n",
    "imputeYear(2011, \"Miami\", \"New York Jets\", 19, 17, 0, 1)"
   ]
  },
  {
   "cell_type": "code",
   "execution_count": null,
   "metadata": {},
   "outputs": [],
   "source": [
    "#For one of the visualizations, we need to sort the dataset according to team, then year, then week--then an index will need\n",
    "#to be added to keep things properly sorted.\n",
    "data = data.sort_values(by = [\"home_team\",\"season\", \"week_num\"])\n",
    "\n",
    "data[\"Index_num\"] = 0\n",
    "for snuh in range(0,len(data)):\n",
    "    data.iat[snuh,11] = snuh"
   ]
  },
  {
   "cell_type": "code",
   "execution_count": null,
   "metadata": {},
   "outputs": [],
   "source": [
    "#Export Dataframe to CSV\n",
    "data.to_csv(r'nfl_arrests.csv', index = False)"
   ]
  },
  {
   "cell_type": "markdown",
   "metadata": {},
   "source": [
    "## Dataset 2"
   ]
  },
  {
   "cell_type": "code",
   "execution_count": null,
   "metadata": {},
   "outputs": [],
   "source": [
    "#New Dataset, NFL Player Arrests\n",
    "data2 = pd.read_csv(\"nfl_player_arrests.csv\", encoding = 'unicode_escape')\n",
    "#Check out the data, look for Missing Data\n",
    "data2.head()"
   ]
  },
  {
   "cell_type": "code",
   "execution_count": null,
   "metadata": {},
   "outputs": [],
   "source": [
    "#We need to standardize Team Names--importing a new csv file with two columns to help ease the transition\n",
    "data3 = pd.read_csv(\"nfl_names_conversion.csv\", encoding = 'unicode_escape')\n",
    "data3.head()"
   ]
  },
  {
   "cell_type": "code",
   "execution_count": null,
   "metadata": {},
   "outputs": [],
   "source": [
    "#Loop through each row in this small dataset, and change obervations in data2 that match \"Team Name\" to \"Team City\".\n",
    "#Also add a new column to data3 that selects 1 for items that were matched. This will allow us to delete all observations\n",
    "#with teams outside of our dataset easily.\n",
    "\n",
    "data2[\"Found\"] = 0\n",
    "for meh in range(0,len(data3)):\n",
    "    teamname = data3[\"Team_Name\"][meh]\n",
    "    for bleh in range(0,len(data2)):\n",
    "        if data2.iloc[bleh]['TEAM'] == teamname:\n",
    "            data2.iat[bleh,8] = 1\n",
    "            data2.iat[bleh,1] = data3.iloc[meh][\"Team_City\"]\n",
    "\n",
    "data2.drop(data2[data2['Found'] == 0].index, inplace = True) \n",
    "data2.head(20)"
   ]
  },
  {
   "cell_type": "code",
   "execution_count": null,
   "metadata": {},
   "outputs": [],
   "source": [
    "#Export Dataframe to CSV\n",
    "data2.to_csv(r'nfl_players.csv', index = False)"
   ]
  }
 ],
 "metadata": {
  "kernelspec": {
   "display_name": "Python 3 (ipykernel)",
   "language": "python",
   "name": "python3"
  },
  "language_info": {
   "codemirror_mode": {
    "name": "ipython",
    "version": 3
   },
   "file_extension": ".py",
   "mimetype": "text/x-python",
   "name": "python",
   "nbconvert_exporter": "python",
   "pygments_lexer": "ipython3",
   "version": "3.9.12"
  }
 },
 "nbformat": 4,
 "nbformat_minor": 4
}
